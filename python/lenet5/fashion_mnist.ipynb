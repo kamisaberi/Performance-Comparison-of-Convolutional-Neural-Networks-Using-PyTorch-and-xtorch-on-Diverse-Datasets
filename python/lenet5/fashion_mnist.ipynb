{
 "cells": [
  {
   "cell_type": "code",
   "id": "initial_id",
   "metadata": {
    "collapsed": true,
    "ExecuteTime": {
     "end_time": "2025-07-29T00:09:18.854053Z",
     "start_time": "2025-07-29T00:09:17.679047Z"
    }
   },
   "source": [
    "import torch\n",
    "import numpy as np\n",
    "import torchvision\n",
    "import torch.nn as nn\n",
    "import torch\n",
    "import torch.nn as nn\n",
    "import torch.optim as optim\n",
    "import torchvision\n",
    "import torchvision.transforms as transforms\n",
    "import time"
   ],
   "outputs": [],
   "execution_count": 1
  },
  {
   "metadata": {
    "ExecuteTime": {
     "end_time": "2025-07-29T00:09:18.950175Z",
     "start_time": "2025-07-29T00:09:18.898997Z"
    }
   },
   "cell_type": "code",
   "source": [
    "transform = torchvision.transforms.Compose([\n",
    "    torchvision.transforms.Resize((32, 32)),  # Resize images to 32x32 pixels\n",
    "    torchvision.transforms.ToTensor(),        # Convert images to PyTorch tensors\n",
    "    torchvision.transforms.Normalize(mean=(0.5,), std=(0.5,))  # Normalize with mean=0.5, std=0.5\n",
    "])\n",
    "\n",
    "train_dataset = torchvision.datasets.FashionMNIST(\n",
    "    root='/home/kami/Documents/datasets/',\n",
    "    train=True,\n",
    "    download=False,\n",
    "    transform=transform\n",
    ")\n",
    "\n",
    "train_loader = torch.utils.data.DataLoader(\n",
    "    train_dataset,\n",
    "    batch_size=64,\n",
    "    shuffle=True\n",
    ")\n",
    "\n",
    "for images, labels in train_loader:\n",
    "    print(f\"Batch shape: {images.shape}\")  # Should be [64, 1, 32, 32] (batch, channels, height, width)\n",
    "    print(f\"Labels shape: {labels.shape}\")  # Should be [64]\n",
    "    print(f\"Image tensor min: {images.min()}, max: {images.max()}\")  # Check normalization\n",
    "    break  # Only print the first batch\n",
    "\n",
    "\n"
   ],
   "id": "9cb147db82a3dc8",
   "outputs": [
    {
     "name": "stdout",
     "output_type": "stream",
     "text": [
      "Batch shape: torch.Size([64, 1, 32, 32])\n",
      "Labels shape: torch.Size([64])\n",
      "Image tensor min: -1.0, max: 0.9921568632125854\n"
     ]
    }
   ],
   "execution_count": 2
  },
  {
   "metadata": {
    "ExecuteTime": {
     "end_time": "2025-07-29T00:09:19.020191Z",
     "start_time": "2025-07-29T00:09:19.017293Z"
    }
   },
   "cell_type": "code",
   "source": [
    "class LeNet5(nn.Module):\n",
    "    \"\"\"LeNet-5 convolutional neural network for MNIST classification.\"\"\"\n",
    "    def __init__(self, num_classes=10 , in_channels=1):\n",
    "        super(LeNet5, self).__init__()\n",
    "        # Convolutional layers\n",
    "        self.conv1 = nn.Conv2d(in_channels, 6, kernel_size=5, stride=1, padding=0)  # Input: 1x32x32, Output: 6x28x28\n",
    "        self.conv2 = nn.Conv2d(6, 16, kernel_size=5, stride=1, padding=0)  # Input: 6x14x14, Output: 16x10x10\n",
    "        # Pooling layer (used twice)\n",
    "        self.pool = nn.AvgPool2d(kernel_size=2, stride=2)  # Downsample by 2\n",
    "        # Fully connected layers\n",
    "        self.fc1 = nn.Linear(16 * 5 * 5, 120)  # Input: 16x5x5 (after pooling), Output: 120\n",
    "        self.fc2 = nn.Linear(120, 84)          # Output: 84\n",
    "        self.fc3 = nn.Linear(84, num_classes)           # Output: 10 (MNIST classes)\n",
    "        # Activation function\n",
    "        self.relu = nn.ReLU()\n",
    "\n",
    "    def forward(self, x):\n",
    "        \"\"\"Forward pass through the LeNet-5 network.\"\"\"\n",
    "        x = self.relu(self.conv1(x))      # Conv1 -> ReLU\n",
    "        x = self.pool(x)                  # Pool (28x28 -> 14x14)\n",
    "        x = self.relu(self.conv2(x))      # Conv2 -> ReLU\n",
    "        x = self.pool(x)                  # Pool (10x10 -> 5x5)\n",
    "        x = x.view(-1, 16 * 5 * 5)       # Flatten for FC layers\n",
    "        x = self.relu(self.fc1(x))        # FC1 -> ReLU\n",
    "        x = self.relu(self.fc2(x))        # FC2 -> ReLU\n",
    "        x = self.fc3(x)                   # FC3 (no activation, logits for classification)\n",
    "        return x\n"
   ],
   "id": "63a3fe9e4ef8d32e",
   "outputs": [],
   "execution_count": 3
  },
  {
   "metadata": {
    "ExecuteTime": {
     "end_time": "2025-07-29T00:09:57.649836Z",
     "start_time": "2025-07-29T00:09:21.040921Z"
    }
   },
   "cell_type": "code",
   "source": [
    "device = torch.device('cuda' if torch.cuda.is_available() else 'cpu')\n",
    "print(device)\n",
    "# device = torch.device('cpu')\n",
    "model = LeNet5().to(device)\n",
    "criterion = nn.CrossEntropyLoss()  # Combines log softmax and NLL loss\n",
    "optimizer = optim.Adam(model.parameters(), lr=1e-3)  # Adam with learning rate 1e-3\n",
    "\n",
    "st = time.time()\n",
    "# Train for 10 epochs\n",
    "model.train()\n",
    "for epoch in range(10):\n",
    "    batch_index = 0\n",
    "    for images, labels in train_loader:\n",
    "        # Move data to device\n",
    "        images = images.to(device)\n",
    "        labels = labels.to(device)\n",
    "\n",
    "        # Zero out gradients\n",
    "        optimizer.zero_grad()\n",
    "\n",
    "        # Forward pass\n",
    "        outputs = model(images)\n",
    "        loss = criterion(outputs, labels)\n",
    "\n",
    "        # Backward pass and optimization\n",
    "        loss.backward()\n",
    "        optimizer.step()\n",
    "\n",
    "        # Log loss every 100 batches\n",
    "        batch_index += 1\n",
    "        if batch_index % 100 == 0:\n",
    "            print(f\"Epoch: {epoch} | Batch: {batch_index} | Loss: {loss.item():.4f}\")\n",
    "\n",
    "et = time.time()\n",
    "print(et-st)\n",
    "print(\"Training completed.\")"
   ],
   "id": "8af32df55e46baa5",
   "outputs": [
    {
     "name": "stdout",
     "output_type": "stream",
     "text": [
      "cuda\n",
      "Epoch: 0 | Batch: 100 | Loss: 0.8640\n",
      "Epoch: 0 | Batch: 200 | Loss: 0.8808\n",
      "Epoch: 0 | Batch: 300 | Loss: 0.7276\n",
      "Epoch: 0 | Batch: 400 | Loss: 0.7304\n",
      "Epoch: 0 | Batch: 500 | Loss: 0.6448\n",
      "Epoch: 0 | Batch: 600 | Loss: 0.4738\n",
      "Epoch: 0 | Batch: 700 | Loss: 0.3701\n",
      "Epoch: 0 | Batch: 800 | Loss: 0.5516\n",
      "Epoch: 0 | Batch: 900 | Loss: 0.3774\n",
      "Epoch: 1 | Batch: 100 | Loss: 0.5654\n",
      "Epoch: 1 | Batch: 200 | Loss: 0.3656\n",
      "Epoch: 1 | Batch: 300 | Loss: 0.4308\n",
      "Epoch: 1 | Batch: 400 | Loss: 0.3895\n",
      "Epoch: 1 | Batch: 500 | Loss: 0.3113\n",
      "Epoch: 1 | Batch: 600 | Loss: 0.3586\n",
      "Epoch: 1 | Batch: 700 | Loss: 0.2861\n",
      "Epoch: 1 | Batch: 800 | Loss: 0.4700\n",
      "Epoch: 1 | Batch: 900 | Loss: 0.4138\n",
      "Epoch: 2 | Batch: 100 | Loss: 0.4667\n",
      "Epoch: 2 | Batch: 200 | Loss: 0.5193\n",
      "Epoch: 2 | Batch: 300 | Loss: 0.2848\n",
      "Epoch: 2 | Batch: 400 | Loss: 0.3581\n",
      "Epoch: 2 | Batch: 500 | Loss: 0.2401\n",
      "Epoch: 2 | Batch: 600 | Loss: 0.4076\n",
      "Epoch: 2 | Batch: 700 | Loss: 0.3273\n",
      "Epoch: 2 | Batch: 800 | Loss: 0.2220\n",
      "Epoch: 2 | Batch: 900 | Loss: 0.2167\n",
      "Epoch: 3 | Batch: 100 | Loss: 0.5174\n",
      "Epoch: 3 | Batch: 200 | Loss: 0.1857\n",
      "Epoch: 3 | Batch: 300 | Loss: 0.3848\n",
      "Epoch: 3 | Batch: 400 | Loss: 0.4230\n",
      "Epoch: 3 | Batch: 500 | Loss: 0.4669\n",
      "Epoch: 3 | Batch: 600 | Loss: 0.2130\n",
      "Epoch: 3 | Batch: 700 | Loss: 0.4658\n",
      "Epoch: 3 | Batch: 800 | Loss: 0.2319\n",
      "Epoch: 3 | Batch: 900 | Loss: 0.4197\n",
      "Epoch: 4 | Batch: 100 | Loss: 0.2689\n",
      "Epoch: 4 | Batch: 200 | Loss: 0.2776\n",
      "Epoch: 4 | Batch: 300 | Loss: 0.5643\n",
      "Epoch: 4 | Batch: 400 | Loss: 0.2971\n",
      "Epoch: 4 | Batch: 500 | Loss: 0.4713\n",
      "Epoch: 4 | Batch: 600 | Loss: 0.3190\n",
      "Epoch: 4 | Batch: 700 | Loss: 0.1836\n",
      "Epoch: 4 | Batch: 800 | Loss: 0.3437\n",
      "Epoch: 4 | Batch: 900 | Loss: 0.1802\n",
      "Epoch: 5 | Batch: 100 | Loss: 0.3094\n",
      "Epoch: 5 | Batch: 200 | Loss: 0.2117\n",
      "Epoch: 5 | Batch: 300 | Loss: 0.4637\n",
      "Epoch: 5 | Batch: 400 | Loss: 0.2472\n",
      "Epoch: 5 | Batch: 500 | Loss: 0.4304\n",
      "Epoch: 5 | Batch: 600 | Loss: 0.2283\n",
      "Epoch: 5 | Batch: 700 | Loss: 0.2710\n",
      "Epoch: 5 | Batch: 800 | Loss: 0.1016\n",
      "Epoch: 5 | Batch: 900 | Loss: 0.2880\n",
      "Epoch: 6 | Batch: 100 | Loss: 0.3296\n",
      "Epoch: 6 | Batch: 200 | Loss: 0.2319\n",
      "Epoch: 6 | Batch: 300 | Loss: 0.2241\n",
      "Epoch: 6 | Batch: 400 | Loss: 0.2350\n",
      "Epoch: 6 | Batch: 500 | Loss: 0.1775\n",
      "Epoch: 6 | Batch: 600 | Loss: 0.2232\n",
      "Epoch: 6 | Batch: 700 | Loss: 0.1094\n",
      "Epoch: 6 | Batch: 800 | Loss: 0.2428\n",
      "Epoch: 6 | Batch: 900 | Loss: 0.3563\n",
      "Epoch: 7 | Batch: 100 | Loss: 0.1872\n",
      "Epoch: 7 | Batch: 200 | Loss: 0.2194\n",
      "Epoch: 7 | Batch: 300 | Loss: 0.2010\n",
      "Epoch: 7 | Batch: 400 | Loss: 0.2060\n",
      "Epoch: 7 | Batch: 500 | Loss: 0.3141\n",
      "Epoch: 7 | Batch: 600 | Loss: 0.1429\n",
      "Epoch: 7 | Batch: 700 | Loss: 0.3666\n",
      "Epoch: 7 | Batch: 800 | Loss: 0.2131\n",
      "Epoch: 7 | Batch: 900 | Loss: 0.3387\n",
      "Epoch: 8 | Batch: 100 | Loss: 0.2302\n",
      "Epoch: 8 | Batch: 200 | Loss: 0.2560\n",
      "Epoch: 8 | Batch: 300 | Loss: 0.2754\n",
      "Epoch: 8 | Batch: 400 | Loss: 0.1984\n",
      "Epoch: 8 | Batch: 500 | Loss: 0.2985\n",
      "Epoch: 8 | Batch: 600 | Loss: 0.2335\n",
      "Epoch: 8 | Batch: 700 | Loss: 0.2598\n",
      "Epoch: 8 | Batch: 800 | Loss: 0.2167\n",
      "Epoch: 8 | Batch: 900 | Loss: 0.3349\n",
      "Epoch: 9 | Batch: 100 | Loss: 0.1850\n",
      "Epoch: 9 | Batch: 200 | Loss: 0.2498\n",
      "Epoch: 9 | Batch: 300 | Loss: 0.2322\n",
      "Epoch: 9 | Batch: 400 | Loss: 0.2354\n",
      "Epoch: 9 | Batch: 500 | Loss: 0.2319\n",
      "Epoch: 9 | Batch: 600 | Loss: 0.2716\n",
      "Epoch: 9 | Batch: 700 | Loss: 0.2257\n",
      "Epoch: 9 | Batch: 800 | Loss: 0.2513\n",
      "Epoch: 9 | Batch: 900 | Loss: 0.3704\n",
      "36.3878870010376\n",
      "Training completed.\n"
     ]
    }
   ],
   "execution_count": 4
  },
  {
   "metadata": {},
   "cell_type": "code",
   "outputs": [],
   "execution_count": null,
   "source": "",
   "id": "1accc5a3767575f2"
  }
 ],
 "metadata": {
  "kernelspec": {
   "display_name": "Python 3",
   "language": "python",
   "name": "python3"
  },
  "language_info": {
   "codemirror_mode": {
    "name": "ipython",
    "version": 2
   },
   "file_extension": ".py",
   "mimetype": "text/x-python",
   "name": "python",
   "nbconvert_exporter": "python",
   "pygments_lexer": "ipython2",
   "version": "2.7.6"
  }
 },
 "nbformat": 4,
 "nbformat_minor": 5
}
