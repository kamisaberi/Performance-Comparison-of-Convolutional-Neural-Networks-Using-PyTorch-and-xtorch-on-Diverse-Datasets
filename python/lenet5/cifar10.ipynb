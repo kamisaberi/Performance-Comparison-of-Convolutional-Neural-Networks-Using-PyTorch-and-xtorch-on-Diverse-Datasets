{
 "cells": [
  {
   "cell_type": "code",
   "id": "initial_id",
   "metadata": {
    "collapsed": true,
    "ExecuteTime": {
     "end_time": "2025-07-29T00:07:21.530552Z",
     "start_time": "2025-07-29T00:07:20.266308Z"
    }
   },
   "source": [
    "import torch\n",
    "import numpy as np\n",
    "import torchvision\n",
    "import torch.nn as nn\n",
    "import torch\n",
    "import torch.nn as nn\n",
    "import torch.optim as optim\n",
    "import torchvision\n",
    "import torchvision.transforms as transforms\n",
    "import time"
   ],
   "outputs": [],
   "execution_count": 1
  },
  {
   "cell_type": "code",
   "id": "a4b7c726a8a1922e",
   "metadata": {
    "ExecuteTime": {
     "end_time": "2025-07-29T00:07:22.566200Z",
     "start_time": "2025-07-29T00:07:22.234342Z"
    }
   },
   "source": [
    "transform = torchvision.transforms.Compose([\n",
    "    torchvision.transforms.Resize((32, 32)),  # Resize images to 32x32 pixels\n",
    "    torchvision.transforms.ToTensor(),        # Convert images to PyTorch tensors\n",
    "    torchvision.transforms.Normalize(mean=(0.5,), std=(0.5,))  # Normalize with mean=0.5, std=0.5\n",
    "])\n",
    "\n",
    "train_dataset = torchvision.datasets.CIFAR10(\n",
    "    root='/home/kami/Documents/datasets/',\n",
    "    train=True,\n",
    "    download=False,\n",
    "    transform=transform\n",
    ")\n",
    "\n",
    "train_loader = torch.utils.data.DataLoader(\n",
    "    train_dataset,\n",
    "    batch_size=64,\n",
    "    shuffle=True\n",
    ")\n",
    "\n",
    "for images, labels in train_loader:\n",
    "    print(f\"Batch shape: {images.shape}\")  # Should be [64, 1, 32, 32] (batch, channels, height, width)\n",
    "    print(f\"Labels shape: {labels.shape}\")  # Should be [64]\n",
    "    print(f\"Image tensor min: {images.min()}, max: {images.max()}\")  # Check normalization\n",
    "    break  # Only print the first batch"
   ],
   "outputs": [
    {
     "name": "stdout",
     "output_type": "stream",
     "text": [
      "Batch shape: torch.Size([64, 3, 32, 32])\n",
      "Labels shape: torch.Size([64])\n",
      "Image tensor min: -1.0, max: 1.0\n"
     ]
    }
   ],
   "execution_count": 2
  },
  {
   "cell_type": "code",
   "id": "61f43908147bda40",
   "metadata": {
    "ExecuteTime": {
     "end_time": "2025-07-29T00:07:23.393624Z",
     "start_time": "2025-07-29T00:07:23.390826Z"
    }
   },
   "source": [
    "class LeNet5(nn.Module):\n",
    "    \"\"\"LeNet-5 convolutional neural network for MNIST classification.\"\"\"\n",
    "    def __init__(self, num_classes=10 , in_channels=1):\n",
    "        super(LeNet5, self).__init__()\n",
    "        # Convolutional layers\n",
    "        self.conv1 = nn.Conv2d(in_channels, 6, kernel_size=5, stride=1, padding=0)  # Input: 1x32x32, Output: 6x28x28\n",
    "        self.conv2 = nn.Conv2d(6, 16, kernel_size=5, stride=1, padding=0)  # Input: 6x14x14, Output: 16x10x10\n",
    "        # Pooling layer (used twice)\n",
    "        self.pool = nn.AvgPool2d(kernel_size=2, stride=2)  # Downsample by 2\n",
    "        # Fully connected layers\n",
    "        self.fc1 = nn.Linear(16 * 5 * 5, 120)  # Input: 16x5x5 (after pooling), Output: 120\n",
    "        self.fc2 = nn.Linear(120, 84)          # Output: 84\n",
    "        self.fc3 = nn.Linear(84, num_classes)           # Output: 10 (MNIST classes)\n",
    "        # Activation function\n",
    "        self.relu = nn.ReLU()\n",
    "\n",
    "    def forward(self, x):\n",
    "        \"\"\"Forward pass through the LeNet-5 network.\"\"\"\n",
    "        x = self.relu(self.conv1(x))      # Conv1 -> ReLU\n",
    "        x = self.pool(x)                  # Pool (28x28 -> 14x14)\n",
    "        x = self.relu(self.conv2(x))      # Conv2 -> ReLU\n",
    "        x = self.pool(x)                  # Pool (10x10 -> 5x5)\n",
    "        x = x.view(-1, 16 * 5 * 5)       # Flatten for FC layers\n",
    "        x = self.relu(self.fc1(x))        # FC1 -> ReLU\n",
    "        x = self.relu(self.fc2(x))        # FC2 -> ReLU\n",
    "        x = self.fc3(x)                   # FC3 (no activation, logits for classification)\n",
    "        return x\n"
   ],
   "outputs": [],
   "execution_count": 3
  },
  {
   "cell_type": "code",
   "id": "a64ff7d04759fb8d",
   "metadata": {
    "ExecuteTime": {
     "end_time": "2025-07-29T00:07:56.949122Z",
     "start_time": "2025-07-29T00:07:24.011290Z"
    }
   },
   "source": [
    "# CUDA_LAUNCH_BLOCKING=1\n",
    "device = torch.device('cuda' if torch.cuda.is_available() else 'cpu')\n",
    "# print(device)\n",
    "# device = torch.device('cpu')\n",
    "model = LeNet5(num_classes=10,in_channels=3).to(device)\n",
    "criterion = nn.CrossEntropyLoss()  # Combines log softmax and NLL loss\n",
    "optimizer = optim.Adam(model.parameters(), lr=1e-3)  # Adam with learning rate 1e-3\n",
    "\n",
    "st = time.time()\n",
    "# Train for 10 epochs\n",
    "model.train()\n",
    "for epoch in range(10):\n",
    "    batch_index = 0\n",
    "    for images, labels in train_loader:\n",
    "        # Move data to device\n",
    "        images = images.to(device)\n",
    "        labels = labels.to(device)\n",
    "\n",
    "        # Zero out gradients\n",
    "        optimizer.zero_grad()\n",
    "\n",
    "        # Forward pass\n",
    "        outputs = model(images)\n",
    "        loss = criterion(outputs, labels)\n",
    "\n",
    "        # Backward pass and optimization\n",
    "        loss.backward()\n",
    "        optimizer.step()\n",
    "\n",
    "        # Log loss every 100 batches\n",
    "        batch_index += 1\n",
    "        if batch_index % 100 == 0:\n",
    "            print(f\"Epoch: {epoch} | Batch: {batch_index} | Loss: {loss.item():.4f}\")\n",
    "\n",
    "et = time.time()\n",
    "print(et-st)\n",
    "print(\"Training completed.\")\n"
   ],
   "outputs": [
    {
     "name": "stdout",
     "output_type": "stream",
     "text": [
      "Epoch: 0 | Batch: 100 | Loss: 1.9055\n",
      "Epoch: 0 | Batch: 200 | Loss: 2.3927\n",
      "Epoch: 0 | Batch: 300 | Loss: 1.8422\n",
      "Epoch: 0 | Batch: 400 | Loss: 1.6512\n",
      "Epoch: 0 | Batch: 500 | Loss: 1.6923\n",
      "Epoch: 0 | Batch: 600 | Loss: 1.6541\n",
      "Epoch: 0 | Batch: 700 | Loss: 1.4758\n",
      "Epoch: 1 | Batch: 100 | Loss: 1.5252\n",
      "Epoch: 1 | Batch: 200 | Loss: 1.4176\n",
      "Epoch: 1 | Batch: 300 | Loss: 1.2409\n",
      "Epoch: 1 | Batch: 400 | Loss: 1.2816\n",
      "Epoch: 1 | Batch: 500 | Loss: 1.4273\n",
      "Epoch: 1 | Batch: 600 | Loss: 1.3700\n",
      "Epoch: 1 | Batch: 700 | Loss: 1.3096\n",
      "Epoch: 2 | Batch: 100 | Loss: 1.3026\n",
      "Epoch: 2 | Batch: 200 | Loss: 1.3523\n",
      "Epoch: 2 | Batch: 300 | Loss: 1.4550\n",
      "Epoch: 2 | Batch: 400 | Loss: 1.4660\n",
      "Epoch: 2 | Batch: 500 | Loss: 1.3540\n",
      "Epoch: 2 | Batch: 600 | Loss: 1.2853\n",
      "Epoch: 2 | Batch: 700 | Loss: 1.4227\n",
      "Epoch: 3 | Batch: 100 | Loss: 1.2960\n",
      "Epoch: 3 | Batch: 200 | Loss: 1.1835\n",
      "Epoch: 3 | Batch: 300 | Loss: 1.4736\n",
      "Epoch: 3 | Batch: 400 | Loss: 1.4351\n",
      "Epoch: 3 | Batch: 500 | Loss: 1.2533\n",
      "Epoch: 3 | Batch: 600 | Loss: 1.3145\n",
      "Epoch: 3 | Batch: 700 | Loss: 1.0847\n",
      "Epoch: 4 | Batch: 100 | Loss: 1.0819\n",
      "Epoch: 4 | Batch: 200 | Loss: 1.3494\n",
      "Epoch: 4 | Batch: 300 | Loss: 1.0507\n",
      "Epoch: 4 | Batch: 400 | Loss: 1.4175\n",
      "Epoch: 4 | Batch: 500 | Loss: 1.0883\n",
      "Epoch: 4 | Batch: 600 | Loss: 1.0490\n",
      "Epoch: 4 | Batch: 700 | Loss: 1.2917\n",
      "Epoch: 5 | Batch: 100 | Loss: 1.2691\n",
      "Epoch: 5 | Batch: 200 | Loss: 1.0062\n",
      "Epoch: 5 | Batch: 300 | Loss: 1.0489\n",
      "Epoch: 5 | Batch: 400 | Loss: 1.2613\n",
      "Epoch: 5 | Batch: 500 | Loss: 1.0870\n",
      "Epoch: 5 | Batch: 600 | Loss: 1.1992\n",
      "Epoch: 5 | Batch: 700 | Loss: 1.2525\n",
      "Epoch: 6 | Batch: 100 | Loss: 1.0806\n",
      "Epoch: 6 | Batch: 200 | Loss: 1.0672\n",
      "Epoch: 6 | Batch: 300 | Loss: 1.1331\n",
      "Epoch: 6 | Batch: 400 | Loss: 0.9868\n",
      "Epoch: 6 | Batch: 500 | Loss: 1.4367\n",
      "Epoch: 6 | Batch: 600 | Loss: 1.2365\n",
      "Epoch: 6 | Batch: 700 | Loss: 1.0973\n",
      "Epoch: 7 | Batch: 100 | Loss: 0.8907\n",
      "Epoch: 7 | Batch: 200 | Loss: 1.0883\n",
      "Epoch: 7 | Batch: 300 | Loss: 0.9949\n",
      "Epoch: 7 | Batch: 400 | Loss: 0.8445\n",
      "Epoch: 7 | Batch: 500 | Loss: 0.9126\n",
      "Epoch: 7 | Batch: 600 | Loss: 0.8526\n",
      "Epoch: 7 | Batch: 700 | Loss: 0.9815\n",
      "Epoch: 8 | Batch: 100 | Loss: 0.9693\n",
      "Epoch: 8 | Batch: 200 | Loss: 0.8294\n",
      "Epoch: 8 | Batch: 300 | Loss: 1.0324\n",
      "Epoch: 8 | Batch: 400 | Loss: 0.8304\n",
      "Epoch: 8 | Batch: 500 | Loss: 1.2133\n",
      "Epoch: 8 | Batch: 600 | Loss: 1.1225\n",
      "Epoch: 8 | Batch: 700 | Loss: 1.1746\n",
      "Epoch: 9 | Batch: 100 | Loss: 0.8590\n",
      "Epoch: 9 | Batch: 200 | Loss: 0.9733\n",
      "Epoch: 9 | Batch: 300 | Loss: 0.9036\n",
      "Epoch: 9 | Batch: 400 | Loss: 0.6891\n",
      "Epoch: 9 | Batch: 500 | Loss: 0.8777\n",
      "Epoch: 9 | Batch: 600 | Loss: 1.1308\n",
      "Epoch: 9 | Batch: 700 | Loss: 0.8966\n",
      "32.71860885620117\n",
      "Training completed.\n"
     ]
    }
   ],
   "execution_count": 4
  },
  {
   "cell_type": "code",
   "execution_count": null,
   "id": "b2ea77be33ce7f5c",
   "metadata": {},
   "outputs": [],
   "source": []
  }
 ],
 "metadata": {
  "kernelspec": {
   "display_name": "Python 3",
   "language": "python",
   "name": "python3"
  },
  "language_info": {
   "codemirror_mode": {
    "name": "ipython",
    "version": 2
   },
   "file_extension": ".py",
   "mimetype": "text/x-python",
   "name": "python",
   "nbconvert_exporter": "python",
   "pygments_lexer": "ipython2",
   "version": "2.7.6"
  }
 },
 "nbformat": 4,
 "nbformat_minor": 5
}
