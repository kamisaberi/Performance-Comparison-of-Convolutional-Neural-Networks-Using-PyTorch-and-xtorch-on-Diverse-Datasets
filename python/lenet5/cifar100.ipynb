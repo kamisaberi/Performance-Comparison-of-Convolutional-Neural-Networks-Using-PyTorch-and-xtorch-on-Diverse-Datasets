{
 "cells": [
  {
   "metadata": {
    "ExecuteTime": {
     "end_time": "2025-07-29T00:08:04.472048Z",
     "start_time": "2025-07-29T00:08:03.318688Z"
    }
   },
   "cell_type": "code",
   "source": [
    "import torch\n",
    "import numpy as np\n",
    "import torchvision\n",
    "import torch.nn as nn\n",
    "import torch\n",
    "import torch.nn as nn\n",
    "import torch.optim as optim\n",
    "import torchvision\n",
    "import torchvision.transforms as transforms\n",
    "import time"
   ],
   "id": "d807b053786df7b7",
   "outputs": [],
   "execution_count": 1
  },
  {
   "metadata": {
    "ExecuteTime": {
     "end_time": "2025-07-29T00:08:04.850320Z",
     "start_time": "2025-07-29T00:08:04.515434Z"
    }
   },
   "cell_type": "code",
   "source": [
    "transform = torchvision.transforms.Compose([\n",
    "    torchvision.transforms.Resize((32, 32)),  # Resize images to 32x32 pixels\n",
    "    torchvision.transforms.ToTensor(),        # Convert images to PyTorch tensors\n",
    "    torchvision.transforms.Normalize(mean=(0.5,), std=(0.5,))  # Normalize with mean=0.5, std=0.5\n",
    "])\n",
    "\n",
    "train_dataset = torchvision.datasets.CIFAR100(\n",
    "    root='/home/kami/Documents/datasets/',\n",
    "    train=True,\n",
    "    download=False,\n",
    "    transform=transform\n",
    ")\n",
    "\n",
    "train_loader = torch.utils.data.DataLoader(\n",
    "    train_dataset,\n",
    "    batch_size=64,\n",
    "    shuffle=True\n",
    ")\n",
    "\n",
    "\n",
    "for images, labels in train_loader:\n",
    "    print(f\"Batch shape: {images.shape}\")  # Should be [64, 1, 32, 32] (batch, channels, height, width)\n",
    "    print(f\"Labels shape: {labels.shape}\")  # Should be [64]\n",
    "    print(f\"Image tensor min: {images.min()}, max: {images.max()}\")  # Check normalization\n",
    "    break  # Only print the first batch\n",
    "\n",
    "\n"
   ],
   "id": "d2c4c3d3263977e9",
   "outputs": [
    {
     "name": "stdout",
     "output_type": "stream",
     "text": [
      "Batch shape: torch.Size([64, 3, 32, 32])\n",
      "Labels shape: torch.Size([64])\n",
      "Image tensor min: -1.0, max: 1.0\n"
     ]
    }
   ],
   "execution_count": 2
  },
  {
   "metadata": {
    "ExecuteTime": {
     "end_time": "2025-07-29T00:08:05.364249Z",
     "start_time": "2025-07-29T00:08:05.361655Z"
    }
   },
   "cell_type": "code",
   "source": [
    "class LeNet5(nn.Module):\n",
    "    \"\"\"LeNet-5 convolutional neural network for MNIST classification.\"\"\"\n",
    "    def __init__(self, num_classes=10 , in_channels=1):\n",
    "        super(LeNet5, self).__init__()\n",
    "        # Convolutional layers\n",
    "        self.conv1 = nn.Conv2d(in_channels, 6, kernel_size=5, stride=1, padding=0)  # Input: 1x32x32, Output: 6x28x28\n",
    "        self.conv2 = nn.Conv2d(6, 16, kernel_size=5, stride=1, padding=0)  # Input: 6x14x14, Output: 16x10x10\n",
    "        # Pooling layer (used twice)\n",
    "        self.pool = nn.AvgPool2d(kernel_size=2, stride=2)  # Downsample by 2\n",
    "        # Fully connected layers\n",
    "        self.fc1 = nn.Linear(16 * 5 * 5, 120)  # Input: 16x5x5 (after pooling), Output: 120\n",
    "        self.fc2 = nn.Linear(120, 84)          # Output: 84\n",
    "        self.fc3 = nn.Linear(84, num_classes)           # Output: 10 (MNIST classes)\n",
    "        # Activation function\n",
    "        self.relu = nn.ReLU()\n",
    "\n",
    "    def forward(self, x):\n",
    "        \"\"\"Forward pass through the LeNet-5 network.\"\"\"\n",
    "        x = self.relu(self.conv1(x))      # Conv1 -> ReLU\n",
    "        x = self.pool(x)                  # Pool (28x28 -> 14x14)\n",
    "        x = self.relu(self.conv2(x))      # Conv2 -> ReLU\n",
    "        x = self.pool(x)                  # Pool (10x10 -> 5x5)\n",
    "        x = x.view(-1, 16 * 5 * 5)       # Flatten for FC layers\n",
    "        x = self.relu(self.fc1(x))        # FC1 -> ReLU\n",
    "        x = self.relu(self.fc2(x))        # FC2 -> ReLU\n",
    "        x = self.fc3(x)                   # FC3 (no activation, logits for classification)\n",
    "        return x\n"
   ],
   "id": "e2d4761d2cacb79c",
   "outputs": [],
   "execution_count": 3
  },
  {
   "metadata": {
    "ExecuteTime": {
     "end_time": "2025-07-29T00:08:38.075023Z",
     "start_time": "2025-07-29T00:08:05.921542Z"
    }
   },
   "cell_type": "code",
   "source": [
    "# CUDA_LAUNCH_BLOCKING=1\n",
    "device = torch.device('cuda' if torch.cuda.is_available() else 'cpu')\n",
    "# print(device)\n",
    "# device = torch.device('cpu')\n",
    "model = LeNet5(num_classes=100,in_channels=3).to(device)\n",
    "criterion = nn.CrossEntropyLoss()  # Combines log softmax and NLL loss\n",
    "optimizer = optim.Adam(model.parameters(), lr=1e-3)  # Adam with learning rate 1e-3\n",
    "\n",
    "st = time.time()\n",
    "# Train for 10 epochs\n",
    "model.train()\n",
    "for epoch in range(10):\n",
    "    batch_index = 0\n",
    "    for images, labels in train_loader:\n",
    "        # Move data to device\n",
    "        images = images.to(device)\n",
    "        labels = labels.to(device)\n",
    "\n",
    "        # Zero out gradients\n",
    "        optimizer.zero_grad()\n",
    "\n",
    "        # Forward pass\n",
    "        outputs = model(images)\n",
    "        loss = criterion(outputs, labels)\n",
    "\n",
    "        # Backward pass and optimization\n",
    "        loss.backward()\n",
    "        optimizer.step()\n",
    "\n",
    "        # Log loss every 100 batches\n",
    "        batch_index += 1\n",
    "        if batch_index % 100 == 0:\n",
    "            print(f\"Epoch: {epoch} | Batch: {batch_index} | Loss: {loss.item():.4f}\")\n",
    "\n",
    "et = time.time()\n",
    "print(et-st)\n",
    "print(\"Training completed.\")\n"
   ],
   "id": "516d117c9dc74688",
   "outputs": [
    {
     "name": "stdout",
     "output_type": "stream",
     "text": [
      "Epoch: 0 | Batch: 100 | Loss: 4.4180\n",
      "Epoch: 0 | Batch: 200 | Loss: 4.2076\n",
      "Epoch: 0 | Batch: 300 | Loss: 4.1455\n",
      "Epoch: 0 | Batch: 400 | Loss: 3.8137\n",
      "Epoch: 0 | Batch: 500 | Loss: 3.9333\n",
      "Epoch: 0 | Batch: 600 | Loss: 3.7725\n",
      "Epoch: 0 | Batch: 700 | Loss: 3.8503\n",
      "Epoch: 1 | Batch: 100 | Loss: 3.7377\n",
      "Epoch: 1 | Batch: 200 | Loss: 3.4874\n",
      "Epoch: 1 | Batch: 300 | Loss: 3.5857\n",
      "Epoch: 1 | Batch: 400 | Loss: 3.7526\n",
      "Epoch: 1 | Batch: 500 | Loss: 3.9132\n",
      "Epoch: 1 | Batch: 600 | Loss: 3.4201\n",
      "Epoch: 1 | Batch: 700 | Loss: 3.8506\n",
      "Epoch: 2 | Batch: 100 | Loss: 3.6137\n",
      "Epoch: 2 | Batch: 200 | Loss: 3.3611\n",
      "Epoch: 2 | Batch: 300 | Loss: 3.3458\n",
      "Epoch: 2 | Batch: 400 | Loss: 3.7465\n",
      "Epoch: 2 | Batch: 500 | Loss: 3.0048\n",
      "Epoch: 2 | Batch: 600 | Loss: 3.4973\n",
      "Epoch: 2 | Batch: 700 | Loss: 3.3640\n",
      "Epoch: 3 | Batch: 100 | Loss: 3.2146\n",
      "Epoch: 3 | Batch: 200 | Loss: 3.5171\n",
      "Epoch: 3 | Batch: 300 | Loss: 3.1734\n",
      "Epoch: 3 | Batch: 400 | Loss: 2.8733\n",
      "Epoch: 3 | Batch: 500 | Loss: 3.0362\n",
      "Epoch: 3 | Batch: 600 | Loss: 3.4593\n",
      "Epoch: 3 | Batch: 700 | Loss: 3.2684\n",
      "Epoch: 4 | Batch: 100 | Loss: 2.6803\n",
      "Epoch: 4 | Batch: 200 | Loss: 3.3103\n",
      "Epoch: 4 | Batch: 300 | Loss: 3.1919\n",
      "Epoch: 4 | Batch: 400 | Loss: 2.9573\n",
      "Epoch: 4 | Batch: 500 | Loss: 3.2154\n",
      "Epoch: 4 | Batch: 600 | Loss: 2.7068\n",
      "Epoch: 4 | Batch: 700 | Loss: 2.9229\n",
      "Epoch: 5 | Batch: 100 | Loss: 3.0459\n",
      "Epoch: 5 | Batch: 200 | Loss: 3.0575\n",
      "Epoch: 5 | Batch: 300 | Loss: 2.9911\n",
      "Epoch: 5 | Batch: 400 | Loss: 3.3670\n",
      "Epoch: 5 | Batch: 500 | Loss: 2.9036\n",
      "Epoch: 5 | Batch: 600 | Loss: 2.5889\n",
      "Epoch: 5 | Batch: 700 | Loss: 3.1699\n",
      "Epoch: 6 | Batch: 100 | Loss: 3.3525\n",
      "Epoch: 6 | Batch: 200 | Loss: 2.9066\n",
      "Epoch: 6 | Batch: 300 | Loss: 2.6248\n",
      "Epoch: 6 | Batch: 400 | Loss: 2.8884\n",
      "Epoch: 6 | Batch: 500 | Loss: 3.2407\n",
      "Epoch: 6 | Batch: 600 | Loss: 3.1076\n",
      "Epoch: 6 | Batch: 700 | Loss: 2.7820\n",
      "Epoch: 7 | Batch: 100 | Loss: 2.9356\n",
      "Epoch: 7 | Batch: 200 | Loss: 2.9486\n",
      "Epoch: 7 | Batch: 300 | Loss: 3.1251\n",
      "Epoch: 7 | Batch: 400 | Loss: 3.0625\n",
      "Epoch: 7 | Batch: 500 | Loss: 3.0836\n",
      "Epoch: 7 | Batch: 600 | Loss: 2.6999\n",
      "Epoch: 7 | Batch: 700 | Loss: 2.9876\n",
      "Epoch: 8 | Batch: 100 | Loss: 2.6699\n",
      "Epoch: 8 | Batch: 200 | Loss: 3.1213\n",
      "Epoch: 8 | Batch: 300 | Loss: 2.6368\n",
      "Epoch: 8 | Batch: 400 | Loss: 3.0193\n",
      "Epoch: 8 | Batch: 500 | Loss: 2.6956\n",
      "Epoch: 8 | Batch: 600 | Loss: 2.4390\n",
      "Epoch: 8 | Batch: 700 | Loss: 2.3781\n",
      "Epoch: 9 | Batch: 100 | Loss: 2.9818\n",
      "Epoch: 9 | Batch: 200 | Loss: 3.2909\n",
      "Epoch: 9 | Batch: 300 | Loss: 2.7342\n",
      "Epoch: 9 | Batch: 400 | Loss: 2.4680\n",
      "Epoch: 9 | Batch: 500 | Loss: 2.6465\n",
      "Epoch: 9 | Batch: 600 | Loss: 2.3591\n",
      "Epoch: 9 | Batch: 700 | Loss: 2.7799\n",
      "31.996345281600952\n",
      "Training completed.\n"
     ]
    }
   ],
   "execution_count": 4
  },
  {
   "metadata": {},
   "cell_type": "code",
   "outputs": [],
   "execution_count": null,
   "source": "",
   "id": "932700b7c276baef"
  }
 ],
 "metadata": {
  "kernelspec": {
   "display_name": "Python 3",
   "language": "python",
   "name": "python3"
  },
  "language_info": {
   "codemirror_mode": {
    "name": "ipython",
    "version": 2
   },
   "file_extension": ".py",
   "mimetype": "text/x-python",
   "name": "python",
   "nbconvert_exporter": "python",
   "pygments_lexer": "ipython2",
   "version": "2.7.6"
  }
 },
 "nbformat": 4,
 "nbformat_minor": 5
}
