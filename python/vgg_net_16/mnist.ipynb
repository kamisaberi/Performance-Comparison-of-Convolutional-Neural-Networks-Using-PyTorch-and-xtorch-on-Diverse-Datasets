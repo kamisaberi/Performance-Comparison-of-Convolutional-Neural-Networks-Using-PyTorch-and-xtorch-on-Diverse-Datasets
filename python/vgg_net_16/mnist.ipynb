{
 "cells": [
  {
   "cell_type": "code",
   "id": "initial_id",
   "metadata": {
    "collapsed": true,
    "ExecuteTime": {
     "end_time": "2025-04-25T18:15:16.479612Z",
     "start_time": "2025-04-25T18:15:15.934244Z"
    }
   },
   "source": [
    "import torch\n",
    "import numpy as np\n",
    "import torchvision"
   ],
   "outputs": [],
   "execution_count": 2
  },
  {
   "metadata": {
    "ExecuteTime": {
     "end_time": "2025-04-25T18:29:56.506512Z",
     "start_time": "2025-04-25T18:29:56.469415Z"
    }
   },
   "cell_type": "code",
   "source": [
    "transform = torchvision.transforms.Compose([\n",
    "    torchvision.transforms.Resize((32, 32)),  # Resize images to 32x32 pixels\n",
    "    torchvision.transforms.ToTensor(),        # Convert images to PyTorch tensors\n",
    "    torchvision.transforms.Normalize(mean=(0.5,), std=(0.5,))  # Normalize with mean=0.5, std=0.5\n",
    "])\n",
    "\n",
    "# Load the MNIST training dataset\n",
    "# - root: Directory to store/download the dataset\n",
    "# - train: True for training set\n",
    "# - download: True to download the dataset if not present\n",
    "# - transform: Apply the defined transformations\n",
    "train_dataset = torchvision.datasets.MNIST(\n",
    "    root='/home/kami/Documents/datasets/',\n",
    "    train=True,\n",
    "    download=False,\n",
    "    transform=transform\n",
    ")\n",
    "\n",
    "# Create a DataLoader to batch and shuffle the training data\n",
    "# - batch_size: 64 for manageable batch processing\n",
    "# - shuffle: True to randomize the data order\n",
    "train_loader = torch.utils.data.DataLoader(\n",
    "    train_dataset,\n",
    "    batch_size=64,\n",
    "    shuffle=True\n",
    ")\n",
    "\n",
    "# Optional: Load the test dataset with the same transformations\n",
    "test_dataset = torchvision.datasets.MNIST(\n",
    "    root='/home/kami/Documents/datasets/',\n",
    "    train=False,\n",
    "    download=False,\n",
    "    transform=transform\n",
    ")\n",
    "\n",
    "test_loader = torch.utils.data.DataLoader(\n",
    "    test_dataset,\n",
    "    batch_size=64,\n",
    "    shuffle=False  # No need to shuffle test data\n",
    ")\n",
    "\n",
    "# Example: Iterate through one batch to verify the data\n",
    "for images, labels in train_loader:\n",
    "    print(f\"Batch shape: {images.shape}\")  # Should be [64, 1, 32, 32] (batch, channels, height, width)\n",
    "    print(f\"Labels shape: {labels.shape}\")  # Should be [64]\n",
    "    print(f\"Image tensor min: {images.min()}, max: {images.max()}\")  # Check normalization\n",
    "    break  # Only print the first batch\n",
    "\n",
    "\n"
   ],
   "id": "9cb147db82a3dc8",
   "outputs": [
    {
     "name": "stdout",
     "output_type": "stream",
     "text": [
      "Batch shape: torch.Size([64, 1, 32, 32])\n",
      "Labels shape: torch.Size([64])\n",
      "Image tensor min: -1.0, max: 1.0\n"
     ]
    }
   ],
   "execution_count": 18
  },
  {
   "metadata": {
    "ExecuteTime": {
     "end_time": "2025-04-25T18:21:18.823945Z",
     "start_time": "2025-04-25T18:21:18.821756Z"
    }
   },
   "cell_type": "code",
   "source": "",
   "id": "63a3fe9e4ef8d32e",
   "outputs": [],
   "execution_count": null
  },
  {
   "metadata": {},
   "cell_type": "code",
   "outputs": [],
   "execution_count": null,
   "source": "",
   "id": "8af32df55e46baa5"
  }
 ],
 "metadata": {
  "kernelspec": {
   "display_name": "Python 3",
   "language": "python",
   "name": "python3"
  },
  "language_info": {
   "codemirror_mode": {
    "name": "ipython",
    "version": 2
   },
   "file_extension": ".py",
   "mimetype": "text/x-python",
   "name": "python",
   "nbconvert_exporter": "python",
   "pygments_lexer": "ipython2",
   "version": "2.7.6"
  }
 },
 "nbformat": 4,
 "nbformat_minor": 5
}
