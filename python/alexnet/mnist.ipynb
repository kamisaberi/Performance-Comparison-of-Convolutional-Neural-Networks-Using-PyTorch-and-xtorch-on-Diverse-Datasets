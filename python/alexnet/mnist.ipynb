{
 "cells": [
  {
   "metadata": {
    "ExecuteTime": {
     "end_time": "2025-04-26T00:14:04.898888Z",
     "start_time": "2025-04-26T00:14:03.713032Z"
    }
   },
   "cell_type": "code",
   "source": [
    "import torch\n",
    "import numpy as np\n",
    "import torchvision\n",
    "import torch\n",
    "import torch.nn as nn\n",
    "import torch.optim as optim\n",
    "import torchvision\n",
    "import torchvision.transforms as transforms\n",
    "import time"
   ],
   "id": "8eeaf03414e9c9fd",
   "outputs": [],
   "execution_count": 1
  },
  {
   "metadata": {
    "ExecuteTime": {
     "end_time": "2025-04-26T00:15:42.512036Z",
     "start_time": "2025-04-26T00:15:42.469349Z"
    }
   },
   "cell_type": "code",
   "source": [
    "transform = torchvision.transforms.Compose([\n",
    "    torchvision.transforms.Resize((227, 227)),  # Resize images to 32x32 pixels\n",
    "    torchvision.transforms.ToTensor(),        # Convert images to PyTorch tensors\n",
    "    torchvision.transforms.Normalize(mean=(0.5,), std=(0.5,))  # Normalize with mean=0.5, std=0.5\n",
    "])\n",
    "\n",
    "# Load the MNIST training dataset\n",
    "# - root: Directory to store/download the dataset\n",
    "# - train: True for training set\n",
    "# - download: True to download the dataset if not present\n",
    "# - transform: Apply the defined transformations\n",
    "train_dataset = torchvision.datasets.MNIST(\n",
    "    root='/home/kami/Documents/datasets/',\n",
    "    train=True,\n",
    "    download=False,\n",
    "    transform=transform\n",
    ")\n",
    "\n",
    "# Create a DataLoader to batch and shuffle the training data\n",
    "# - batch_size: 64 for manageable batch processing\n",
    "# - shuffle: True to randomize the data order\n",
    "train_loader = torch.utils.data.DataLoader(\n",
    "    train_dataset,\n",
    "    batch_size=64,\n",
    "    shuffle=True\n",
    ")\n",
    "\n",
    "# Optional: Load the test dataset with the same transformations\n",
    "test_dataset = torchvision.datasets.MNIST(\n",
    "    root='/home/kami/Documents/datasets/',\n",
    "    train=False,\n",
    "    download=False,\n",
    "    transform=transform\n",
    ")\n",
    "\n",
    "test_loader = torch.utils.data.DataLoader(\n",
    "    test_dataset,\n",
    "    batch_size=64,\n",
    "    shuffle=False  # No need to shuffle test data\n",
    ")\n",
    "\n",
    "# Example: Iterate through one batch to verify the data\n",
    "for images, labels in train_loader:\n",
    "    print(f\"Batch shape: {images.shape}\")  # Should be [64, 1, 32, 32] (batch, channels, height, width)\n",
    "    print(f\"Labels shape: {labels.shape}\")  # Should be [64]\n",
    "    print(f\"Image tensor min: {images.min()}, max: {images.max()}\")  # Check normalization\n",
    "    break  # Only print the first batch\n",
    "\n",
    "\n"
   ],
   "id": "58a9bc4fb5b319fa",
   "outputs": [
    {
     "name": "stdout",
     "output_type": "stream",
     "text": [
      "Batch shape: torch.Size([64, 1, 227, 227])\n",
      "Labels shape: torch.Size([64])\n",
      "Image tensor min: -1.0, max: 1.0\n"
     ]
    }
   ],
   "execution_count": 4
  },
  {
   "metadata": {
    "ExecuteTime": {
     "end_time": "2025-04-26T00:18:35.806349Z",
     "start_time": "2025-04-26T00:18:35.802099Z"
    }
   },
   "cell_type": "code",
   "source": [
    "class AlexNet(nn.Module):\n",
    "    def __init__(self, num_classes=10, in_channels=1):\n",
    "        super(AlexNet, self).__init__()\n",
    "        self.layer1 = nn.Sequential(\n",
    "            nn.Conv2d(in_channels, 96, kernel_size=11, stride=4, padding=0),\n",
    "            nn.BatchNorm2d(96),\n",
    "            nn.ReLU(),\n",
    "            nn.MaxPool2d(kernel_size = 3, stride = 2))\n",
    "        self.layer2 = nn.Sequential(\n",
    "            nn.Conv2d(96, 256, kernel_size=5, stride=1, padding=2),\n",
    "            nn.BatchNorm2d(256),\n",
    "            nn.ReLU(),\n",
    "            nn.MaxPool2d(kernel_size = 3, stride = 2))\n",
    "        self.layer3 = nn.Sequential(\n",
    "            nn.Conv2d(256, 384, kernel_size=3, stride=1, padding=1),\n",
    "            nn.BatchNorm2d(384),\n",
    "            nn.ReLU())\n",
    "        self.layer4 = nn.Sequential(\n",
    "            nn.Conv2d(384, 384, kernel_size=3, stride=1, padding=1),\n",
    "            nn.BatchNorm2d(384),\n",
    "            nn.ReLU())\n",
    "        self.layer5 = nn.Sequential(\n",
    "            nn.Conv2d(384, 256, kernel_size=3, stride=1, padding=1),\n",
    "            nn.BatchNorm2d(256),\n",
    "            nn.ReLU(),\n",
    "            nn.MaxPool2d(kernel_size = 3, stride = 2))\n",
    "        self.fc = nn.Sequential(\n",
    "            nn.Dropout(0.5),\n",
    "            nn.Linear(9216, 4096),\n",
    "            nn.ReLU())\n",
    "        self.fc1 = nn.Sequential(\n",
    "            nn.Dropout(0.5),\n",
    "            nn.Linear(4096, 4096),\n",
    "            nn.ReLU())\n",
    "        self.fc2= nn.Sequential(\n",
    "            nn.Linear(4096, num_classes))\n",
    "\n",
    "    def forward(self, x):\n",
    "        # print(\"size 01:\" , x.shape)\n",
    "        out = self.layer1(x)\n",
    "        # print(\"size 02:\" , out.shape)\n",
    "        out = self.layer2(out)\n",
    "        # print(\"size 03:\" , out.shape)\n",
    "        out = self.layer3(out)\n",
    "        # print(\"size 04:\" , out.shape)\n",
    "        out = self.layer4(out)\n",
    "        # print(\"size 05:\" , out.shape)\n",
    "        out = self.layer5(out)\n",
    "        # print(\"size 06:\" , out.shape)\n",
    "        out = out.reshape(out.size(0), -1)\n",
    "        # print(\"size 07:\" , out.shape)\n",
    "        out = self.fc(out)\n",
    "        # print(\"size 08:\" , out.shape)\n",
    "        out = self.fc1(out)\n",
    "        out = self.fc2(out)\n",
    "        return out"
   ],
   "id": "5fe92835bb927e29",
   "outputs": [],
   "execution_count": 8
  },
  {
   "metadata": {
    "ExecuteTime": {
     "end_time": "2025-04-26T00:20:02.163708Z",
     "start_time": "2025-04-26T00:20:01.991245Z"
    }
   },
   "cell_type": "code",
   "source": [
    "device = torch.device('cuda' if torch.cuda.is_available() else 'cpu')\n",
    "num_classes = 10\n",
    "num_epochs = 20\n",
    "batch_size = 64\n",
    "learning_rate = 0.005\n",
    "\n",
    "model = AlexNet(num_classes=num_classes , in_channels=1).to(device)\n",
    "\n",
    "# Loss and optimizer\n",
    "criterion = nn.CrossEntropyLoss()\n",
    "optimizer = torch.optim.SGD(model.parameters(), lr=learning_rate, weight_decay = 0.005, momentum = 0.9)\n",
    "\n",
    "# Train the model\n",
    "total_step = len(train_loader)"
   ],
   "id": "12e20c2cd54f5d02",
   "outputs": [],
   "execution_count": 10
  },
  {
   "metadata": {
    "ExecuteTime": {
     "end_time": "2025-04-26T00:21:49.186064Z",
     "start_time": "2025-04-26T00:21:08.482383Z"
    }
   },
   "cell_type": "code",
   "source": [
    "import time\n",
    "total_step = len(train_loader)\n",
    "\n",
    "st = time.time()\n",
    "\n",
    "model.train()\n",
    "for epoch in range(10):\n",
    "    batch_index = 0\n",
    "    for images, labels in train_loader:\n",
    "        # Move data to device\n",
    "        images = images.to(device)\n",
    "        labels = labels.to(device)\n",
    "\n",
    "        # Zero out gradients\n",
    "        optimizer.zero_grad()\n",
    "\n",
    "        # Forward pass\n",
    "        outputs = model(images)\n",
    "        loss = criterion(outputs, labels)\n",
    "\n",
    "        # Backward pass and optimization\n",
    "        loss.backward()\n",
    "        optimizer.step()\n",
    "\n",
    "        # Log loss every 100 batches\n",
    "        batch_index += 1\n",
    "        if batch_index % 100 == 0:\n",
    "            print(f\"Epoch: {epoch} | Batch: {batch_index} | Loss: {loss.item():.4f}\")\n",
    "\n",
    "et = time.time()\n",
    "print(et-st)\n",
    "print(\"Training completed.\")"
   ],
   "id": "6f84d84c790105a",
   "outputs": [
    {
     "name": "stdout",
     "output_type": "stream",
     "text": [
      "Epoch: 0 | Batch: 100 | Loss: 0.0346\n",
      "Epoch: 0 | Batch: 200 | Loss: 0.2987\n",
      "Epoch: 0 | Batch: 300 | Loss: 0.1761\n",
      "Epoch: 0 | Batch: 400 | Loss: 0.0652\n",
      "Epoch: 0 | Batch: 500 | Loss: 0.0708\n",
      "Epoch: 0 | Batch: 600 | Loss: 0.0252\n",
      "Epoch: 0 | Batch: 700 | Loss: 0.1092\n",
      "Epoch: 0 | Batch: 800 | Loss: 0.0090\n",
      "Epoch: 0 | Batch: 900 | Loss: 0.0094\n",
      "Epoch: 1 | Batch: 100 | Loss: 0.0573\n",
      "Epoch: 1 | Batch: 200 | Loss: 0.0107\n",
      "Epoch: 1 | Batch: 300 | Loss: 0.0183\n",
      "Epoch: 1 | Batch: 400 | Loss: 0.0312\n",
      "Epoch: 1 | Batch: 500 | Loss: 0.0232\n",
      "Epoch: 1 | Batch: 600 | Loss: 0.0202\n"
     ]
    },
    {
     "ename": "KeyboardInterrupt",
     "evalue": "",
     "output_type": "error",
     "traceback": [
      "\u001B[31m---------------------------------------------------------------------------\u001B[39m",
      "\u001B[31mKeyboardInterrupt\u001B[39m                         Traceback (most recent call last)",
      "\u001B[36mCell\u001B[39m\u001B[36m \u001B[39m\u001B[32mIn[13]\u001B[39m\u001B[32m, line 11\u001B[39m\n\u001B[32m      8\u001B[39m batch_index = \u001B[32m0\u001B[39m\n\u001B[32m      9\u001B[39m \u001B[38;5;28;01mfor\u001B[39;00m images, labels \u001B[38;5;129;01min\u001B[39;00m train_loader:\n\u001B[32m     10\u001B[39m     \u001B[38;5;66;03m# Move data to device\u001B[39;00m\n\u001B[32m---> \u001B[39m\u001B[32m11\u001B[39m     images = \u001B[43mimages\u001B[49m\u001B[43m.\u001B[49m\u001B[43mto\u001B[49m\u001B[43m(\u001B[49m\u001B[43mdevice\u001B[49m\u001B[43m)\u001B[49m\n\u001B[32m     12\u001B[39m     labels = labels.to(device)\n\u001B[32m     14\u001B[39m     \u001B[38;5;66;03m# Zero out gradients\u001B[39;00m\n",
      "\u001B[31mKeyboardInterrupt\u001B[39m: "
     ]
    }
   ],
   "execution_count": 13
  },
  {
   "metadata": {},
   "cell_type": "code",
   "outputs": [],
   "execution_count": null,
   "source": "",
   "id": "d6776ddc4ebaef7f"
  }
 ],
 "metadata": {
  "kernelspec": {
   "display_name": "Python 3",
   "language": "python",
   "name": "python3"
  },
  "language_info": {
   "codemirror_mode": {
    "name": "ipython",
    "version": 2
   },
   "file_extension": ".py",
   "mimetype": "text/x-python",
   "name": "python",
   "nbconvert_exporter": "python",
   "pygments_lexer": "ipython2",
   "version": "2.7.6"
  }
 },
 "nbformat": 4,
 "nbformat_minor": 5
}
